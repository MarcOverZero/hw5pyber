{
 "cells": [
  {
   "cell_type": "code",
   "execution_count": 1,
   "metadata": {},
   "outputs": [],
   "source": [
    "import numpy as np\n",
    "import pandas as pd\n",
    "import seaborn as sb\n",
    "import matplotlib.pyplot as plt\n",
    "%matplotlib inline\n"
   ]
  },
  {
   "cell_type": "code",
   "execution_count": 2,
   "metadata": {},
   "outputs": [],
   "source": [
    "city = pd.read_csv('raw_data/city_data.csv')\n",
    "ride = pd.read_csv('raw_data/ride_data.csv')"
   ]
  },
  {
   "cell_type": "code",
   "execution_count": 3,
   "metadata": {},
   "outputs": [
    {
     "data": {
      "text/html": [
       "<div>\n",
       "<style scoped>\n",
       "    .dataframe tbody tr th:only-of-type {\n",
       "        vertical-align: middle;\n",
       "    }\n",
       "\n",
       "    .dataframe tbody tr th {\n",
       "        vertical-align: top;\n",
       "    }\n",
       "\n",
       "    .dataframe thead th {\n",
       "        text-align: right;\n",
       "    }\n",
       "</style>\n",
       "<table border=\"1\" class=\"dataframe\">\n",
       "  <thead>\n",
       "    <tr style=\"text-align: right;\">\n",
       "      <th></th>\n",
       "      <th>city</th>\n",
       "      <th>fare</th>\n",
       "    </tr>\n",
       "  </thead>\n",
       "  <tbody>\n",
       "    <tr>\n",
       "      <th>0</th>\n",
       "      <td>South Latoya</td>\n",
       "      <td>$20.09</td>\n",
       "    </tr>\n",
       "    <tr>\n",
       "      <th>1</th>\n",
       "      <td>West Gabriel</td>\n",
       "      <td>$20.35</td>\n",
       "    </tr>\n",
       "    <tr>\n",
       "      <th>2</th>\n",
       "      <td>Royland</td>\n",
       "      <td>$20.57</td>\n",
       "    </tr>\n",
       "    <tr>\n",
       "      <th>3</th>\n",
       "      <td>Leahton</td>\n",
       "      <td>$21.24</td>\n",
       "    </tr>\n",
       "    <tr>\n",
       "      <th>4</th>\n",
       "      <td>Raymondhaven</td>\n",
       "      <td>$21.48</td>\n",
       "    </tr>\n",
       "  </tbody>\n",
       "</table>\n",
       "</div>"
      ],
      "text/plain": [
       "           city    fare\n",
       "0  South Latoya  $20.09\n",
       "1  West Gabriel  $20.35\n",
       "2       Royland  $20.57\n",
       "3       Leahton  $21.24\n",
       "4  Raymondhaven  $21.48"
      ]
     },
     "execution_count": 3,
     "metadata": {},
     "output_type": "execute_result"
    }
   ],
   "source": [
    "##  Average Fare ($) Per City\n",
    "average_fare = ride.groupby(['city'])['fare'].mean().map('${:.2f}'.format).sort_values()\n",
    "average_fare.reset_index()[:5]"
   ]
  },
  {
   "cell_type": "code",
   "execution_count": 4,
   "metadata": {},
   "outputs": [
    {
     "data": {
      "text/html": [
       "<div>\n",
       "<style scoped>\n",
       "    .dataframe tbody tr th:only-of-type {\n",
       "        vertical-align: middle;\n",
       "    }\n",
       "\n",
       "    .dataframe tbody tr th {\n",
       "        vertical-align: top;\n",
       "    }\n",
       "\n",
       "    .dataframe thead th {\n",
       "        text-align: right;\n",
       "    }\n",
       "</style>\n",
       "<table border=\"1\" class=\"dataframe\">\n",
       "  <thead>\n",
       "    <tr style=\"text-align: right;\">\n",
       "      <th></th>\n",
       "      <th>city</th>\n",
       "      <th>fare</th>\n",
       "    </tr>\n",
       "  </thead>\n",
       "  <tbody>\n",
       "    <tr>\n",
       "      <th>0</th>\n",
       "      <td>West Angela</td>\n",
       "      <td>39</td>\n",
       "    </tr>\n",
       "    <tr>\n",
       "      <th>1</th>\n",
       "      <td>South Karenland</td>\n",
       "      <td>38</td>\n",
       "    </tr>\n",
       "    <tr>\n",
       "      <th>2</th>\n",
       "      <td>North Jason</td>\n",
       "      <td>35</td>\n",
       "    </tr>\n",
       "    <tr>\n",
       "      <th>3</th>\n",
       "      <td>Port Frank</td>\n",
       "      <td>33</td>\n",
       "    </tr>\n",
       "    <tr>\n",
       "      <th>4</th>\n",
       "      <td>Liumouth</td>\n",
       "      <td>33</td>\n",
       "    </tr>\n",
       "  </tbody>\n",
       "</table>\n",
       "</div>"
      ],
      "text/plain": [
       "              city  fare\n",
       "0      West Angela    39\n",
       "1  South Karenland    38\n",
       "2      North Jason    35\n",
       "3       Port Frank    33\n",
       "4         Liumouth    33"
      ]
     },
     "execution_count": 4,
     "metadata": {},
     "output_type": "execute_result"
    }
   ],
   "source": [
    "## Total Number of Rides Per City\n",
    "ride_count = ride.groupby('city')['fare'].count().sort_values(ascending = False)\n",
    "ride_count.reset_index()[:5]"
   ]
  },
  {
   "cell_type": "code",
   "execution_count": 5,
   "metadata": {},
   "outputs": [
    {
     "data": {
      "text/html": [
       "<div>\n",
       "<style scoped>\n",
       "    .dataframe tbody tr th:only-of-type {\n",
       "        vertical-align: middle;\n",
       "    }\n",
       "\n",
       "    .dataframe tbody tr th {\n",
       "        vertical-align: top;\n",
       "    }\n",
       "\n",
       "    .dataframe thead th {\n",
       "        text-align: right;\n",
       "    }\n",
       "</style>\n",
       "<table border=\"1\" class=\"dataframe\">\n",
       "  <thead>\n",
       "    <tr style=\"text-align: right;\">\n",
       "      <th></th>\n",
       "      <th>city</th>\n",
       "      <th>driver_count</th>\n",
       "    </tr>\n",
       "  </thead>\n",
       "  <tbody>\n",
       "    <tr>\n",
       "      <th>0</th>\n",
       "      <td>Richardfort</td>\n",
       "      <td>38</td>\n",
       "    </tr>\n",
       "    <tr>\n",
       "      <th>1</th>\n",
       "      <td>Williamsstad</td>\n",
       "      <td>59</td>\n",
       "    </tr>\n",
       "    <tr>\n",
       "      <th>2</th>\n",
       "      <td>Port Angela</td>\n",
       "      <td>67</td>\n",
       "    </tr>\n",
       "    <tr>\n",
       "      <th>3</th>\n",
       "      <td>Rodneyfort</td>\n",
       "      <td>34</td>\n",
       "    </tr>\n",
       "    <tr>\n",
       "      <th>4</th>\n",
       "      <td>West Robert</td>\n",
       "      <td>39</td>\n",
       "    </tr>\n",
       "  </tbody>\n",
       "</table>\n",
       "</div>"
      ],
      "text/plain": [
       "           city  driver_count\n",
       "0   Richardfort            38\n",
       "1  Williamsstad            59\n",
       "2   Port Angela            67\n",
       "3    Rodneyfort            34\n",
       "4   West Robert            39"
      ]
     },
     "execution_count": 5,
     "metadata": {},
     "output_type": "execute_result"
    }
   ],
   "source": [
    "## Total Number of Drivers Per City\n",
    "city.groupby('city')['driver_count']\n",
    "city.drop('type', 1)[:5]"
   ]
  },
  {
   "cell_type": "code",
   "execution_count": 6,
   "metadata": {},
   "outputs": [
    {
     "data": {
      "text/html": [
       "<div>\n",
       "<style scoped>\n",
       "    .dataframe tbody tr th:only-of-type {\n",
       "        vertical-align: middle;\n",
       "    }\n",
       "\n",
       "    .dataframe tbody tr th {\n",
       "        vertical-align: top;\n",
       "    }\n",
       "\n",
       "    .dataframe thead th {\n",
       "        text-align: right;\n",
       "    }\n",
       "</style>\n",
       "<table border=\"1\" class=\"dataframe\">\n",
       "  <thead>\n",
       "    <tr style=\"text-align: right;\">\n",
       "      <th></th>\n",
       "      <th>city</th>\n",
       "      <th>driver_count</th>\n",
       "      <th>type</th>\n",
       "      <th>date</th>\n",
       "      <th>fare</th>\n",
       "      <th>ride_id</th>\n",
       "    </tr>\n",
       "  </thead>\n",
       "  <tbody>\n",
       "    <tr>\n",
       "      <th>0</th>\n",
       "      <td>Richardfort</td>\n",
       "      <td>38</td>\n",
       "      <td>Urban</td>\n",
       "      <td>2018-02-24 08:40:38</td>\n",
       "      <td>13.93</td>\n",
       "      <td>5628545007794</td>\n",
       "    </tr>\n",
       "    <tr>\n",
       "      <th>1</th>\n",
       "      <td>Richardfort</td>\n",
       "      <td>38</td>\n",
       "      <td>Urban</td>\n",
       "      <td>2018-02-13 12:46:07</td>\n",
       "      <td>14.00</td>\n",
       "      <td>910050116494</td>\n",
       "    </tr>\n",
       "    <tr>\n",
       "      <th>2</th>\n",
       "      <td>Richardfort</td>\n",
       "      <td>38</td>\n",
       "      <td>Urban</td>\n",
       "      <td>2018-02-16 13:52:19</td>\n",
       "      <td>17.92</td>\n",
       "      <td>820639054416</td>\n",
       "    </tr>\n",
       "    <tr>\n",
       "      <th>3</th>\n",
       "      <td>Richardfort</td>\n",
       "      <td>38</td>\n",
       "      <td>Urban</td>\n",
       "      <td>2018-02-01 20:18:28</td>\n",
       "      <td>10.26</td>\n",
       "      <td>9554935945413</td>\n",
       "    </tr>\n",
       "    <tr>\n",
       "      <th>4</th>\n",
       "      <td>Richardfort</td>\n",
       "      <td>38</td>\n",
       "      <td>Urban</td>\n",
       "      <td>2018-04-17 02:26:37</td>\n",
       "      <td>23.00</td>\n",
       "      <td>720020655850</td>\n",
       "    </tr>\n",
       "  </tbody>\n",
       "</table>\n",
       "</div>"
      ],
      "text/plain": [
       "          city  driver_count   type                 date   fare        ride_id\n",
       "0  Richardfort            38  Urban  2018-02-24 08:40:38  13.93  5628545007794\n",
       "1  Richardfort            38  Urban  2018-02-13 12:46:07  14.00   910050116494\n",
       "2  Richardfort            38  Urban  2018-02-16 13:52:19  17.92   820639054416\n",
       "3  Richardfort            38  Urban  2018-02-01 20:18:28  10.26  9554935945413\n",
       "4  Richardfort            38  Urban  2018-04-17 02:26:37  23.00   720020655850"
      ]
     },
     "execution_count": 6,
     "metadata": {},
     "output_type": "execute_result"
    }
   ],
   "source": [
    "city_ride_join = pd.merge(city, ride, how='inner', on = 'city')\n",
    "city_ride_join.head()"
   ]
  },
  {
   "cell_type": "code",
   "execution_count": 7,
   "metadata": {},
   "outputs": [],
   "source": [
    "# grouped cities\n",
    "cities = city_ride_join.groupby('city')\n",
    "# average fare by city\n",
    "average_fare = cities['fare'].mean()\n",
    "# rides per city\n",
    "ride_count = cities['type'].count()\n",
    "# sum of drivers per city\n",
    "drivers = cities['driver_count'].max()\n",
    "# city type (Urban, Suburban, Rural)\n",
    "city_type = cities['type'].max()\n"
   ]
  },
  {
   "cell_type": "code",
   "execution_count": 8,
   "metadata": {},
   "outputs": [
    {
     "data": {
      "text/html": [
       "<div>\n",
       "<style scoped>\n",
       "    .dataframe tbody tr th:only-of-type {\n",
       "        vertical-align: middle;\n",
       "    }\n",
       "\n",
       "    .dataframe tbody tr th {\n",
       "        vertical-align: top;\n",
       "    }\n",
       "\n",
       "    .dataframe thead th {\n",
       "        text-align: right;\n",
       "    }\n",
       "</style>\n",
       "<table border=\"1\" class=\"dataframe\">\n",
       "  <thead>\n",
       "    <tr style=\"text-align: right;\">\n",
       "      <th></th>\n",
       "      <th>city</th>\n",
       "      <th>average fare</th>\n",
       "      <th># of rides</th>\n",
       "      <th>drivers</th>\n",
       "      <th>city type</th>\n",
       "    </tr>\n",
       "  </thead>\n",
       "  <tbody>\n",
       "    <tr>\n",
       "      <th>116</th>\n",
       "      <td>West Samuelburgh</td>\n",
       "      <td>21.767600</td>\n",
       "      <td>25</td>\n",
       "      <td>73</td>\n",
       "      <td>Urban</td>\n",
       "    </tr>\n",
       "    <tr>\n",
       "      <th>96</th>\n",
       "      <td>South Michelleport</td>\n",
       "      <td>24.451613</td>\n",
       "      <td>31</td>\n",
       "      <td>72</td>\n",
       "      <td>Urban</td>\n",
       "    </tr>\n",
       "    <tr>\n",
       "      <th>105</th>\n",
       "      <td>West Anthony</td>\n",
       "      <td>24.736667</td>\n",
       "      <td>30</td>\n",
       "      <td>70</td>\n",
       "      <td>Urban</td>\n",
       "    </tr>\n",
       "    <tr>\n",
       "      <th>43</th>\n",
       "      <td>Liumouth</td>\n",
       "      <td>26.150000</td>\n",
       "      <td>33</td>\n",
       "      <td>69</td>\n",
       "      <td>Urban</td>\n",
       "    </tr>\n",
       "    <tr>\n",
       "      <th>71</th>\n",
       "      <td>Port Angela</td>\n",
       "      <td>23.836842</td>\n",
       "      <td>19</td>\n",
       "      <td>67</td>\n",
       "      <td>Urban</td>\n",
       "    </tr>\n",
       "    <tr>\n",
       "      <th>79</th>\n",
       "      <td>Reynoldsfurt</td>\n",
       "      <td>21.919474</td>\n",
       "      <td>19</td>\n",
       "      <td>67</td>\n",
       "      <td>Urban</td>\n",
       "    </tr>\n",
       "    <tr>\n",
       "      <th>13</th>\n",
       "      <td>East Kaylahaven</td>\n",
       "      <td>23.757931</td>\n",
       "      <td>29</td>\n",
       "      <td>65</td>\n",
       "      <td>Urban</td>\n",
       "    </tr>\n",
       "    <tr>\n",
       "      <th>23</th>\n",
       "      <td>Jerryton</td>\n",
       "      <td>25.649200</td>\n",
       "      <td>25</td>\n",
       "      <td>64</td>\n",
       "      <td>Urban</td>\n",
       "    </tr>\n",
       "    <tr>\n",
       "      <th>86</th>\n",
       "      <td>Royland</td>\n",
       "      <td>20.570667</td>\n",
       "      <td>30</td>\n",
       "      <td>64</td>\n",
       "      <td>Urban</td>\n",
       "    </tr>\n",
       "    <tr>\n",
       "      <th>18</th>\n",
       "      <td>Grahamburgh</td>\n",
       "      <td>25.221200</td>\n",
       "      <td>25</td>\n",
       "      <td>61</td>\n",
       "      <td>Urban</td>\n",
       "    </tr>\n",
       "  </tbody>\n",
       "</table>\n",
       "</div>"
      ],
      "text/plain": [
       "                   city  average fare  # of rides  drivers city type\n",
       "116    West Samuelburgh     21.767600          25       73     Urban\n",
       "96   South Michelleport     24.451613          31       72     Urban\n",
       "105        West Anthony     24.736667          30       70     Urban\n",
       "43             Liumouth     26.150000          33       69     Urban\n",
       "71          Port Angela     23.836842          19       67     Urban\n",
       "79         Reynoldsfurt     21.919474          19       67     Urban\n",
       "13      East Kaylahaven     23.757931          29       65     Urban\n",
       "23             Jerryton     25.649200          25       64     Urban\n",
       "86              Royland     20.570667          30       64     Urban\n",
       "18          Grahamburgh     25.221200          25       61     Urban"
      ]
     },
     "execution_count": 8,
     "metadata": {},
     "output_type": "execute_result"
    }
   ],
   "source": [
    "#df merge\n",
    "ride_invs = pd.DataFrame({'average fare': average_fare, '# of rides': ride_count,'drivers': drivers,'city type': city_type})\n",
    "ride_invs.reset_index().nlargest(10, \"drivers\")"
   ]
  },
  {
   "cell_type": "code",
   "execution_count": 9,
   "metadata": {},
   "outputs": [
    {
     "data": {
      "text/html": [
       "<div>\n",
       "<style scoped>\n",
       "    .dataframe tbody tr th:only-of-type {\n",
       "        vertical-align: middle;\n",
       "    }\n",
       "\n",
       "    .dataframe tbody tr th {\n",
       "        vertical-align: top;\n",
       "    }\n",
       "\n",
       "    .dataframe thead th {\n",
       "        text-align: right;\n",
       "    }\n",
       "</style>\n",
       "<table border=\"1\" class=\"dataframe\">\n",
       "  <thead>\n",
       "    <tr style=\"text-align: right;\">\n",
       "      <th></th>\n",
       "      <th>average fare</th>\n",
       "      <th># of rides</th>\n",
       "      <th>drivers</th>\n",
       "    </tr>\n",
       "    <tr>\n",
       "      <th>city type</th>\n",
       "      <th></th>\n",
       "      <th></th>\n",
       "      <th></th>\n",
       "    </tr>\n",
       "  </thead>\n",
       "  <tbody>\n",
       "    <tr>\n",
       "      <th>Rural</th>\n",
       "      <td>34.637765</td>\n",
       "      <td>6.944444</td>\n",
       "      <td>4.333333</td>\n",
       "    </tr>\n",
       "    <tr>\n",
       "      <th>Suburban</th>\n",
       "      <td>30.737298</td>\n",
       "      <td>17.361111</td>\n",
       "      <td>13.611111</td>\n",
       "    </tr>\n",
       "    <tr>\n",
       "      <th>Urban</th>\n",
       "      <td>24.499122</td>\n",
       "      <td>24.621212</td>\n",
       "      <td>36.439394</td>\n",
       "    </tr>\n",
       "  </tbody>\n",
       "</table>\n",
       "</div>"
      ],
      "text/plain": [
       "           average fare  # of rides    drivers\n",
       "city type                                     \n",
       "Rural         34.637765    6.944444   4.333333\n",
       "Suburban      30.737298   17.361111  13.611111\n",
       "Urban         24.499122   24.621212  36.439394"
      ]
     },
     "execution_count": 9,
     "metadata": {},
     "output_type": "execute_result"
    }
   ],
   "source": [
    "ride_invs.groupby('city type').mean()"
   ]
  },
  {
   "cell_type": "code",
   "execution_count": 10,
   "metadata": {},
   "outputs": [
    {
     "data": {
      "text/html": [
       "<div>\n",
       "<style scoped>\n",
       "    .dataframe tbody tr th:only-of-type {\n",
       "        vertical-align: middle;\n",
       "    }\n",
       "\n",
       "    .dataframe tbody tr th {\n",
       "        vertical-align: top;\n",
       "    }\n",
       "\n",
       "    .dataframe thead th {\n",
       "        text-align: right;\n",
       "    }\n",
       "</style>\n",
       "<table border=\"1\" class=\"dataframe\">\n",
       "  <thead>\n",
       "    <tr style=\"text-align: right;\">\n",
       "      <th></th>\n",
       "      <th>average fare</th>\n",
       "      <th># of rides</th>\n",
       "      <th>drivers</th>\n",
       "    </tr>\n",
       "    <tr>\n",
       "      <th>city type</th>\n",
       "      <th></th>\n",
       "      <th></th>\n",
       "      <th></th>\n",
       "    </tr>\n",
       "  </thead>\n",
       "  <tbody>\n",
       "    <tr>\n",
       "      <th>Rural</th>\n",
       "      <td>18</td>\n",
       "      <td>18</td>\n",
       "      <td>18</td>\n",
       "    </tr>\n",
       "    <tr>\n",
       "      <th>Suburban</th>\n",
       "      <td>36</td>\n",
       "      <td>36</td>\n",
       "      <td>36</td>\n",
       "    </tr>\n",
       "    <tr>\n",
       "      <th>Urban</th>\n",
       "      <td>66</td>\n",
       "      <td>66</td>\n",
       "      <td>66</td>\n",
       "    </tr>\n",
       "  </tbody>\n",
       "</table>\n",
       "</div>"
      ],
      "text/plain": [
       "           average fare  # of rides  drivers\n",
       "city type                                   \n",
       "Rural                18          18       18\n",
       "Suburban             36          36       36\n",
       "Urban                66          66       66"
      ]
     },
     "execution_count": 10,
     "metadata": {},
     "output_type": "execute_result"
    }
   ],
   "source": [
    "ride_invs.groupby(\"city type\").count()"
   ]
  },
  {
   "cell_type": "code",
   "execution_count": 11,
   "metadata": {},
   "outputs": [],
   "source": [
    "## bubble plot components\n",
    "city_sort = ride_invs.groupby(\"city type\")\n",
    "urban = city_sort.get_group('Urban')\n",
    "urban_total_rides = urban['# of rides']\n",
    "urban_average_fare = urban['average fare']\n",
    "urban_drivers = urban['drivers']\n",
    "\n",
    "suburban = city_sort.get_group('Suburban')\n",
    "suburban_total_rides = suburban['# of rides']\n",
    "suburban_average_fare = suburban['average fare']\n",
    "suburban_drivers = suburban['drivers']\n",
    "\n",
    "rural = city_sort.get_group('Rural')\n",
    "rural_total_rides = rural['# of rides']\n",
    "rural_average_fare = rural['average fare']\n",
    "rural_drivers = rural['drivers']\n"
   ]
  },
  {
   "cell_type": "code",
   "execution_count": 12,
   "metadata": {},
   "outputs": [
    {
     "data": {
      "image/png": "[encoded data removed]",
      "text/plain": [
       "<matplotlib.figure.Figure at 0x1a16b3a898>"
      ]
     },
     "metadata": {},
     "output_type": "display_data"
    }
   ],
   "source": [
    "sb.set()\n",
    "plt.figure(figsize=(10,8))\n",
    "rural_plot = plt.scatter(rural_total_rides, rural_average_fare, s = rural_drivers*10, \n",
    "            c = 'gold', alpha = 0.5, edgecolor='black',linewidths=.5)\n",
    "urban_plot = plt.scatter(urban_total_rides, urban_average_fare, s = urban_drivers*10, \n",
    "            c = 'lightcoral', alpha = 0.5, edgecolor='black',linewidths=.5)\n",
    "suburban_plot = plt.scatter(suburban_total_rides, suburban_average_fare, s = suburban_drivers*10, \n",
    "            c = 'lightskyblue', alpha = 0.5, edgecolor='black',linewidths=.5)\n",
    "\n",
    "\n",
    "plt.title('2016 Pyber Ride Share Data', fontsize = 14)\n",
    "plt.xlabel('Number of Rides Per City', fontsize = 12)\n",
    "plt.ylabel('Average Fare USD', fontsize = 12)\n",
    "lgnd = plt.legend(('rural','urban','suburban'), loc ='best',title = 'city types')\n",
    "\n",
    "plt.show()"
   ]
  },
  {
   "cell_type": "code",
   "execution_count": 13,
   "metadata": {},
   "outputs": [
    {
     "data": {
      "text/html": [
       "<div>\n",
       "<style scoped>\n",
       "    .dataframe tbody tr th:only-of-type {\n",
       "        vertical-align: middle;\n",
       "    }\n",
       "\n",
       "    .dataframe tbody tr th {\n",
       "        vertical-align: top;\n",
       "    }\n",
       "\n",
       "    .dataframe thead th {\n",
       "        text-align: right;\n",
       "    }\n",
       "</style>\n",
       "<table border=\"1\" class=\"dataframe\">\n",
       "  <thead>\n",
       "    <tr style=\"text-align: right;\">\n",
       "      <th></th>\n",
       "      <th>type</th>\n",
       "      <th>Fare by city</th>\n",
       "      <th>percentage</th>\n",
       "    </tr>\n",
       "  </thead>\n",
       "  <tbody>\n",
       "    <tr>\n",
       "      <th>0</th>\n",
       "      <td>Rural</td>\n",
       "      <td>4327.93</td>\n",
       "      <td>6.811493</td>\n",
       "    </tr>\n",
       "    <tr>\n",
       "      <th>1</th>\n",
       "      <td>Suburban</td>\n",
       "      <td>19356.33</td>\n",
       "      <td>30.463872</td>\n",
       "    </tr>\n",
       "    <tr>\n",
       "      <th>2</th>\n",
       "      <td>Urban</td>\n",
       "      <td>39854.38</td>\n",
       "      <td>62.724635</td>\n",
       "    </tr>\n",
       "  </tbody>\n",
       "</table>\n",
       "</div>"
      ],
      "text/plain": [
       "       type  Fare by city  percentage\n",
       "0     Rural       4327.93    6.811493\n",
       "1  Suburban      19356.33   30.463872\n",
       "2     Urban      39854.38   62.724635"
      ]
     },
     "execution_count": 13,
     "metadata": {},
     "output_type": "execute_result"
    }
   ],
   "source": [
    "# % of Total Fares by City Type\n",
    "fare = city_ride_join.groupby('type')['fare'].sum()\n",
    "fare_df = pd.DataFrame({'Fare by city': fare})\n",
    "total_fare = city_ride_join['fare'].sum()\n",
    "fare_df['percentage'] = ((fare_df/total_fare)*100)\n",
    "fare_df['Fare by city'] = fare_df['Fare by city']\n",
    "fare_df.reset_index()"
   ]
  },
  {
   "cell_type": "code",
   "execution_count": 14,
   "metadata": {},
   "outputs": [
    {
     "data": {
      "image/png": "[encoded data removed]",
      "text/plain": [
       "<matplotlib.figure.Figure at 0x1a16b3a438>"
      ]
     },
     "metadata": {},
     "output_type": "display_data"
    }
   ],
   "source": [
    "### pie charts\n",
    "\n",
    "#pie formatting\n",
    "colors = 'gold', 'lightskyblue', 'lightcoral'\n",
    "labels = 'Rural', 'Suburbabn', 'Urban'\n",
    "explode = (0, 0, .11)\n",
    "\n",
    "# % of Total Fares by City Type\n",
    "rural_fare_percent = fare_df.iloc[0]['percentage']\n",
    "suburban_fare_percent = fare_df.iloc[1]['percentage']\n",
    "urban_fare_percent = fare_df.iloc[2]['percentage']\n",
    "\n",
    "fares = [rural_fare_percent, suburban_fare_percent, urban_fare_percent]\n",
    "\n",
    "plt.pie(fares, labels=labels, colors=colors, explode=explode, startangle=450, shadow=True, autopct=\"%1.1f%%\")\n",
    "plt.title(\"% of Total Fares by City Type\", fontsize=14)\n",
    "plt.show()"
   ]
  },
  {
   "cell_type": "code",
   "execution_count": 15,
   "metadata": {},
   "outputs": [
    {
     "data": {
      "image/png": "[encoded data removed]",
      "text/plain": [
       "<matplotlib.figure.Figure at 0x1a16fd15f8>"
      ]
     },
     "metadata": {},
     "output_type": "display_data"
    }
   ],
   "source": [
    "# of Total Rides by City Type\n",
    "ride = city_ride_join.groupby('type')['ride_id'].count()\n",
    "ride_df = pd.DataFrame({'Total Rides by city': ride})\n",
    "total_rides = city_ride_join['ride_id'].count()\n",
    "ride_df['percentage'] = ((ride_df/total_rides)*100)\n",
    "ride_df.reset_index()\n",
    "\n",
    "#fare precent variables\n",
    "rural_ride_percent = ride_df.iloc[0]['percentage']\n",
    "suburban_ride_percent = ride_df.iloc[1]['percentage']\n",
    "urban_ride_percent = ride_df.iloc[2]['percentage']\n",
    "\n",
    "rides = [rural_ride_percent, suburban_ride_percent, urban_ride_percent]\n",
    "\n",
    "plt.pie(rides, labels=labels, colors=colors, explode=explode, startangle=90, shadow=True, autopct=\"%1.1f%%\")\n",
    "plt.title(\"% of Total Rides by City Type\", fontsize=14)\n",
    "plt.show()"
   ]
  },
  {
   "cell_type": "code",
   "execution_count": 16,
   "metadata": {},
   "outputs": [
    {
     "data": {
      "image/png": "[encoded data removed]",
      "text/plain": [
       "<matplotlib.figure.Figure at 0x1a16b09160>"
      ]
     },
     "metadata": {},
     "output_type": "display_data"
    }
   ],
   "source": [
    "# % of Total Drivers by City Type\n",
    "drivers = ride_invs.groupby(\"city type\")['drivers'].sum()\n",
    "drivers_df = pd.DataFrame({'Total Drivers by city': drivers})\n",
    "total_drivers = ride_invs['drivers'].sum()\n",
    "drivers_df['percentage'] = ((drivers_df/total_drivers)*100)\n",
    "drivers_df.reset_index()\n",
    "\n",
    "#fare precent variables\n",
    "rural_driver_percent = drivers_df.iloc[0]['percentage']\n",
    "suburban_driver_percent = drivers_df.iloc[1]['percentage']\n",
    "urban_driver_percent = drivers_df.iloc[2]['percentage']\n",
    "\n",
    "drivers = [rural_driver_percent, suburban_driver_percent, urban_driver_percent]\n",
    "\n",
    "plt.pie(drivers, labels=labels, colors=colors, explode=explode, startangle=110, shadow=True, autopct=\"%1.1f%%\")\n",
    "plt.title(\"% of Total Drivers by City Type\", fontsize=14)\n",
    "plt.show()"
   ]
  },
  {
   "cell_type": "code",
   "execution_count": 17,
   "metadata": {},
   "outputs": [],
   "source": [
    "## observations\n",
    "    # 1. Pyber is most common in Urban areas as there are the most number of drivers and most number of requested rides there.\n",
    "    # 2. Rural areas averaged higher fares, longer travel distances seem a relevant component of that.\n",
    "    # 3. Number of rides and fares have an inverse relationship."
   ]
  }
 ],
 "metadata": {
  "kernelspec": {
   "display_name": "Python 3",
   "language": "python",
   "name": "python3"
  },
  "language_info": {
   "codemirror_mode": {
    "name": "ipython",
    "version": 3
   },
   "file_extension": ".py",
   "mimetype": "text/x-python",
   "name": "python",
   "nbconvert_exporter": "python",
   "pygments_lexer": "ipython3",
   "version": "3.6.4"
  }
 },
 "nbformat": 4,
 "nbformat_minor": 2
}
